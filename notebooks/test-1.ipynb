{
 "cells": [
  {
   "cell_type": "code",
   "execution_count": 4,
   "id": "0a3c665a-cebe-40fd-8504-b11db968d478",
   "metadata": {},
   "outputs": [],
   "source": [
    "import pandas as pd\n",
    "\n",
    "from tqdm import tqdm\n",
    "tqdm.pandas()"
   ]
  },
  {
   "cell_type": "code",
   "execution_count": 5,
   "id": "ae9892e6-7be2-499b-91e9-d1dbee2bb9aa",
   "metadata": {},
   "outputs": [
    {
     "name": "stderr",
     "output_type": "stream",
     "text": [
      "100%|█████████████████████████████████████████████████████████████████████████████████████████████████████████████████████████| 1337403/1337403 [00:54<00:00, 24739.42it/s]\n"
     ]
    }
   ],
   "source": [
    "import pandas as pd\n",
    "\n",
    "from wikilite.utils import wiktextract\n",
    "\n",
    "if __name__ == \"__main__\":\n",
    "    words = []\n",
    "    forms = {}\n",
    "    for page in wiktextract.load():\n",
    "        forms[page.word] = forms.get(page.word, [page.word]) + [\n",
    "            f[\"form\"] for f in page.forms\n",
    "        ]\n",
    "        word = page.word\n",
    "        if len(page.senses) == 0:\n",
    "            words.append((word, word))\n",
    "        else:\n",
    "            for sense in page.senses:\n",
    "                sense_glosses = sense.raw_glosses\n",
    "                if len(sense_glosses) == 0 and sense.glosses:\n",
    "                    sense_glosses = sense.glosses\n",
    "                words.append((word, \" \".join(sense_glosses)))\n"
   ]
  },
  {
   "cell_type": "code",
   "execution_count": 96,
   "id": "eb5e55e8-1373-4b41-aa58-8e55eee3dfee",
   "metadata": {},
   "outputs": [],
   "source": [
    "forms_df = pd.DataFrame(forms.items(), columns=[\"word\", \"forms\"])\n",
    "forms_df = forms_df.explode(\"forms\")\n",
    "words_df = pd.DataFrame(words, columns=[\"word\", \"definition\"])\n",
    "words_df = words_df.drop_duplicates([\"word\", \"definition\"])"
   ]
  },
  {
   "cell_type": "code",
   "execution_count": 97,
   "id": "8a6aaa7b-a3c4-4057-89e7-8a74ce7fccb8",
   "metadata": {},
   "outputs": [],
   "source": [
    "words_df[\"text\"] = words_df[\"word\"] + \". \" + words_df[\"definition\"]"
   ]
  },
  {
   "cell_type": "code",
   "execution_count": 99,
   "id": "fd3edc56-8648-43ff-8ef7-786355966bb6",
   "metadata": {},
   "outputs": [],
   "source": [
    "# .drop(columns=\"id\")\n",
    "words_df = words_df.reset_index(drop=True).reset_index(names=\"id\")"
   ]
  },
  {
   "cell_type": "code",
   "execution_count": 26,
   "id": "fc305cee-69a9-4d0a-b623-b0a9625adffe",
   "metadata": {},
   "outputs": [
    {
     "name": "stderr",
     "output_type": "stream",
     "text": [
      "Building TDF matrix: 100%|████████████████████████████████████████████████████████████████████████████████████████████████████| 1599714/1599714 [00:22<00:00, 71683.90it/s]\n",
      "Building inverted index: 100%|██████████████████████████████████████████████████████████████████████████████████████████████████| 541589/541589 [00:30<00:00, 17765.45it/s]\n"
     ]
    }
   ],
   "source": [
    "from retriv import SearchEngine\n",
    "\n",
    "collection = words_df.to_dict(orient=\"records\")\n",
    "\n",
    "se = SearchEngine(\"new-index\").index(collection)"
   ]
  },
  {
   "cell_type": "code",
   "execution_count": 28,
   "id": "a3b63eda-8c77-46de-8ee0-4d7fd08f8799",
   "metadata": {},
   "outputs": [
    {
     "name": "stderr",
     "output_type": "stream",
     "text": [
      "100%|█████████████████████████████████████████████████████████████████████████████████████████████████████████████████████████| 1337403/1337403 [00:54<00:00, 24355.98it/s]\n"
     ]
    }
   ],
   "source": [
    "if __name__ == \"__main__\":\n",
    "    rel_senses = []\n",
    "    for word in wiktextract.load():\n",
    "        all_relations = []\n",
    "        for s in wiktextract.get_relations(word).values():\n",
    "            all_relations.extend(s)\n",
    "        for sense in word.senses:\n",
    "            for s in wiktextract.get_relations(sense).values():\n",
    "                all_relations.extend(s)\n",
    "        for rel in all_relations:\n",
    "            if rel.sense:\n",
    "                rel_senses.append((rel.word, rel.sense))"
   ]
  },
  {
   "cell_type": "code",
   "execution_count": 115,
   "id": "519c9a10-cad9-461a-b484-bcfe27dfffe9",
   "metadata": {},
   "outputs": [],
   "source": [
    "rel_senses_df = pd.DataFrame(rel_senses, columns=[\"word\", \"sense\"]).drop_duplicates()\n",
    "rel_senses_df = rel_senses_df.reset_index(drop=True).reset_index(names=\"id\")\n",
    "rel_senses_df[\"text\"] = (\n",
    "    rel_senses_df[\"word\"] + \". \" + rel_senses_df[\"sense\"]\n",
    ").str.strip()\n"
   ]
  },
  {
   "cell_type": "code",
   "execution_count": 116,
   "id": "9e7ce881-c941-4e21-a758-6d4b46229cec",
   "metadata": {},
   "outputs": [],
   "source": [
    "# rel_senses_df[\"matches\"] = rel_senses_df[\"text\"].progress_apply(se.search)"
   ]
  },
  {
   "cell_type": "code",
   "execution_count": 117,
   "id": "d1c86ff4-e7f0-451d-bd41-4096e5568b38",
   "metadata": {},
   "outputs": [],
   "source": [
    "# rel_senses_df[\"matches\"].head()"
   ]
  },
  {
   "cell_type": "code",
   "execution_count": 118,
   "id": "b8f8b590-f12d-4012-976b-ac51c3246a64",
   "metadata": {},
   "outputs": [],
   "source": [
    "# def get_word_matches(row):\n",
    "#     results = []\n",
    "#     word = row[\"word\"].lower()\n",
    "#     for item in row[\"matches\"]:\n",
    "#         if item[\"word\"].lower() == word:\n",
    "#             results.append(item)\n",
    "#     if len(results) > 0:\n",
    "#         return results[0][\"definition\"]\n",
    "#     return None\n",
    "\n",
    "# rel_senses_df[\"matches_filtered\"] = rel_senses_df.apply(get_word_matches, axis=1)"
   ]
  },
  {
   "cell_type": "code",
   "execution_count": 119,
   "id": "66c0fc3e-55b8-497a-aaf0-4c0567a4cd6c",
   "metadata": {},
   "outputs": [],
   "source": [
    "# rel_senses_df = rel_senses_df.drop(columns=[\"matches_filtered\"])\n",
    "# \"matches_0\", \"matches_0_id\", "
   ]
  },
  {
   "cell_type": "code",
   "execution_count": 120,
   "id": "837a724d-d19a-4be5-a27b-49913dfa9c22",
   "metadata": {},
   "outputs": [],
   "source": [
    "# pd.merge(rel_senses_df, words_df, how=\"left\", right_on=\"id\", left_on=\"matches_0_id\", suffixes=[\"\", \"_\"])"
   ]
  },
  {
   "cell_type": "code",
   "execution_count": 121,
   "id": "8fd70924-92bf-4923-b4e2-b1a6ed2fd4d7",
   "metadata": {},
   "outputs": [],
   "source": [
    "# rel_senses_df[rel_senses_df[\"matches_filtered\"].isna()]"
   ]
  },
  {
   "cell_type": "code",
   "execution_count": 122,
   "id": "9e5f8440-9c83-4562-9b57-78cdb5abb94c",
   "metadata": {},
   "outputs": [
    {
     "data": {
      "text/html": [
       "<div>\n",
       "<style scoped>\n",
       "    .dataframe tbody tr th:only-of-type {\n",
       "        vertical-align: middle;\n",
       "    }\n",
       "\n",
       "    .dataframe tbody tr th {\n",
       "        vertical-align: top;\n",
       "    }\n",
       "\n",
       "    .dataframe thead th {\n",
       "        text-align: right;\n",
       "    }\n",
       "</style>\n",
       "<table border=\"1\" class=\"dataframe\">\n",
       "  <thead>\n",
       "    <tr style=\"text-align: right;\">\n",
       "      <th></th>\n",
       "      <th>id</th>\n",
       "      <th>word</th>\n",
       "      <th>sense</th>\n",
       "      <th>text</th>\n",
       "    </tr>\n",
       "  </thead>\n",
       "  <tbody>\n",
       "    <tr>\n",
       "      <th>0</th>\n",
       "      <td>0</td>\n",
       "      <td>diarthrosis</td>\n",
       "      <td>an articulation, especially one that permits f...</td>\n",
       "      <td>diarthrosis. an articulation, especially one t...</td>\n",
       "    </tr>\n",
       "    <tr>\n",
       "      <th>1</th>\n",
       "      <td>1</td>\n",
       "      <td>aberrant</td>\n",
       "      <td>abnormality—something that is abnormal</td>\n",
       "      <td>aberrant. abnormality—something that is abnormal</td>\n",
       "    </tr>\n",
       "    <tr>\n",
       "      <th>2</th>\n",
       "      <td>2</td>\n",
       "      <td>abnormality</td>\n",
       "      <td>abnormality—state of being abnormal</td>\n",
       "      <td>abnormality. abnormality—state of being abnormal</td>\n",
       "    </tr>\n",
       "    <tr>\n",
       "      <th>3</th>\n",
       "      <td>3</td>\n",
       "      <td>spontaneity</td>\n",
       "      <td>suddenness</td>\n",
       "      <td>spontaneity. suddenness</td>\n",
       "    </tr>\n",
       "    <tr>\n",
       "      <th>4</th>\n",
       "      <td>4</td>\n",
       "      <td>augmentation</td>\n",
       "      <td>antonym(s) of “lessening”</td>\n",
       "      <td>augmentation. antonym(s) of “lessening”</td>\n",
       "    </tr>\n",
       "  </tbody>\n",
       "</table>\n",
       "</div>"
      ],
      "text/plain": [
       "   id          word                                              sense  \\\n",
       "0   0   diarthrosis  an articulation, especially one that permits f...   \n",
       "1   1      aberrant             abnormality—something that is abnormal   \n",
       "2   2   abnormality                abnormality—state of being abnormal   \n",
       "3   3   spontaneity                                         suddenness   \n",
       "4   4  augmentation                          antonym(s) of “lessening”   \n",
       "\n",
       "                                                text  \n",
       "0  diarthrosis. an articulation, especially one t...  \n",
       "1   aberrant. abnormality—something that is abnormal  \n",
       "2   abnormality. abnormality—state of being abnormal  \n",
       "3                            spontaneity. suddenness  \n",
       "4            augmentation. antonym(s) of “lessening”  "
      ]
     },
     "execution_count": 122,
     "metadata": {},
     "output_type": "execute_result"
    }
   ],
   "source": [
    "rel_senses_df.head()"
   ]
  },
  {
   "cell_type": "code",
   "execution_count": 128,
   "id": "64b12a98-e855-4a25-b951-3c60d4b5e0a8",
   "metadata": {},
   "outputs": [
    {
     "data": {
      "text/plain": [
       "False"
      ]
     },
     "execution_count": 128,
     "metadata": {},
     "output_type": "execute_result"
    }
   ],
   "source": [
    "words_df[[\"word\", \"definition\"]].duplicated().any()"
   ]
  },
  {
   "cell_type": "code",
   "execution_count": 124,
   "id": "156e3ee5-7f8d-4714-b917-5d918ee033b2",
   "metadata": {},
   "outputs": [],
   "source": [
    "rel_senses_df = pd.merge(rel_senses_df, words_df, how=\"left\", on=\"word\", suffixes=[\"\", \"_\"])"
   ]
  },
  {
   "cell_type": "code",
   "execution_count": 129,
   "id": "77e5e8e0-94c0-4c46-b640-ed783dbf6acc",
   "metadata": {},
   "outputs": [
    {
     "data": {
      "text/plain": [
       "True"
      ]
     },
     "execution_count": 129,
     "metadata": {},
     "output_type": "execute_result"
    }
   ],
   "source": [
    "rel_senses_df[[\"word\", \"sense\"]].duplicated().any()"
   ]
  },
  {
   "cell_type": "code",
   "execution_count": 130,
   "id": "48b9293b-de25-46df-8dc0-23f873d4d230",
   "metadata": {},
   "outputs": [
    {
     "data": {
      "text/html": [
       "<div>\n",
       "<style scoped>\n",
       "    .dataframe tbody tr th:only-of-type {\n",
       "        vertical-align: middle;\n",
       "    }\n",
       "\n",
       "    .dataframe tbody tr th {\n",
       "        vertical-align: top;\n",
       "    }\n",
       "\n",
       "    .dataframe thead th {\n",
       "        text-align: right;\n",
       "    }\n",
       "</style>\n",
       "<table border=\"1\" class=\"dataframe\">\n",
       "  <thead>\n",
       "    <tr style=\"text-align: right;\">\n",
       "      <th></th>\n",
       "      <th>id</th>\n",
       "      <th>word</th>\n",
       "      <th>sense</th>\n",
       "      <th>text</th>\n",
       "      <th>id_</th>\n",
       "      <th>definition</th>\n",
       "      <th>text_</th>\n",
       "    </tr>\n",
       "  </thead>\n",
       "  <tbody>\n",
       "    <tr>\n",
       "      <th>0</th>\n",
       "      <td>0</td>\n",
       "      <td>diarthrosis</td>\n",
       "      <td>an articulation, especially one that permits f...</td>\n",
       "      <td>diarthrosis. an articulation, especially one t...</td>\n",
       "      <td>575801.0</td>\n",
       "      <td>(anatomy) A joint that can move freely in vari...</td>\n",
       "      <td>diarthrosis. (anatomy) A joint that can move f...</td>\n",
       "    </tr>\n",
       "    <tr>\n",
       "      <th>1</th>\n",
       "      <td>1</td>\n",
       "      <td>aberrant</td>\n",
       "      <td>abnormality—something that is abnormal</td>\n",
       "      <td>aberrant. abnormality—something that is abnormal</td>\n",
       "      <td>1121.0</td>\n",
       "      <td>Differing from the norm.</td>\n",
       "      <td>aberrant. Differing from the norm.</td>\n",
       "    </tr>\n",
       "    <tr>\n",
       "      <th>2</th>\n",
       "      <td>1</td>\n",
       "      <td>aberrant</td>\n",
       "      <td>abnormality—something that is abnormal</td>\n",
       "      <td>aberrant. abnormality—something that is abnormal</td>\n",
       "      <td>1122.0</td>\n",
       "      <td>(sometimes figuratively) Straying from the rig...</td>\n",
       "      <td>aberrant. (sometimes figuratively) Straying fr...</td>\n",
       "    </tr>\n",
       "    <tr>\n",
       "      <th>3</th>\n",
       "      <td>1</td>\n",
       "      <td>aberrant</td>\n",
       "      <td>abnormality—something that is abnormal</td>\n",
       "      <td>aberrant. abnormality—something that is abnormal</td>\n",
       "      <td>1123.0</td>\n",
       "      <td>(botany, zoology) Deviating from the ordinary ...</td>\n",
       "      <td>aberrant. (botany, zoology) Deviating from the...</td>\n",
       "    </tr>\n",
       "    <tr>\n",
       "      <th>4</th>\n",
       "      <td>1</td>\n",
       "      <td>aberrant</td>\n",
       "      <td>abnormality—something that is abnormal</td>\n",
       "      <td>aberrant. abnormality—something that is abnormal</td>\n",
       "      <td>1124.0</td>\n",
       "      <td>A person or object that deviates from the rest...</td>\n",
       "      <td>aberrant. A person or object that deviates fro...</td>\n",
       "    </tr>\n",
       "  </tbody>\n",
       "</table>\n",
       "</div>"
      ],
      "text/plain": [
       "   id         word                                              sense  \\\n",
       "0   0  diarthrosis  an articulation, especially one that permits f...   \n",
       "1   1     aberrant             abnormality—something that is abnormal   \n",
       "2   1     aberrant             abnormality—something that is abnormal   \n",
       "3   1     aberrant             abnormality—something that is abnormal   \n",
       "4   1     aberrant             abnormality—something that is abnormal   \n",
       "\n",
       "                                                text       id_  \\\n",
       "0  diarthrosis. an articulation, especially one t...  575801.0   \n",
       "1   aberrant. abnormality—something that is abnormal    1121.0   \n",
       "2   aberrant. abnormality—something that is abnormal    1122.0   \n",
       "3   aberrant. abnormality—something that is abnormal    1123.0   \n",
       "4   aberrant. abnormality—something that is abnormal    1124.0   \n",
       "\n",
       "                                          definition  \\\n",
       "0  (anatomy) A joint that can move freely in vari...   \n",
       "1                           Differing from the norm.   \n",
       "2  (sometimes figuratively) Straying from the rig...   \n",
       "3  (botany, zoology) Deviating from the ordinary ...   \n",
       "4  A person or object that deviates from the rest...   \n",
       "\n",
       "                                               text_  \n",
       "0  diarthrosis. (anatomy) A joint that can move f...  \n",
       "1                 aberrant. Differing from the norm.  \n",
       "2  aberrant. (sometimes figuratively) Straying fr...  \n",
       "3  aberrant. (botany, zoology) Deviating from the...  \n",
       "4  aberrant. A person or object that deviates fro...  "
      ]
     },
     "execution_count": 130,
     "metadata": {},
     "output_type": "execute_result"
    }
   ],
   "source": [
    "rel_senses_df.head()"
   ]
  },
  {
   "cell_type": "code",
   "execution_count": null,
   "id": "c265752e-99ab-47e6-a9a2-7fc1a1465469",
   "metadata": {},
   "outputs": [],
   "source": []
  }
 ],
 "metadata": {
  "kernelspec": {
   "display_name": "Python 3 (ipykernel)",
   "language": "python",
   "name": "python3"
  },
  "language_info": {
   "codemirror_mode": {
    "name": "ipython",
    "version": 3
   },
   "file_extension": ".py",
   "mimetype": "text/x-python",
   "name": "python",
   "nbconvert_exporter": "python",
   "pygments_lexer": "ipython3",
   "version": "3.11.5"
  }
 },
 "nbformat": 4,
 "nbformat_minor": 5
}
